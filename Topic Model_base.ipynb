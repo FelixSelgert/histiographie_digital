{
 "cells": [
  {
   "cell_type": "markdown",
   "id": "1346a4ef-86f8-4cd0-b440-6366a9e8dfb2",
   "metadata": {},
   "source": [
    "# Topic Modelling mit LDA am Beispiel des 20 Newsgroup Datasets"
   ]
  },
  {
   "cell_type": "markdown",
   "id": "ca926374-d200-4978-ae08-06b9df058cc3",
   "metadata": {},
   "source": [
    "In diesem Notebook erarbeiten Sie sich die Grundlagen des Topic Modellings in [Gensim](https://radimrehurek.com/gensim/) mittels des LDA Models von [Blei, Ng und Jordan (2003)](https://www.jmlr.org/papers/volume3/blei03a/blei03a.pdf?ref=https://githubhelp.com). Wir benutzen dazu einen Datensatz, der sich aus den Beiträgen von 20 Newsgroups zusammensetzt und der im maschinellen Lernen häufig als Referenzdatensatz verwendet wird. \n",
    "Bei [Newsgroups](https://de.wikipedia.org/wiki/Newsgroup) handelt es sich um Vorgänger heutiger Internetforen, die auf dem E-Mail Format basieren. Die Daten wurden wohl von Ken Lang zusammengetragen und sind über das Web [herunterladbar](http://qwone.com/~jason/20Newsgroups/). \n",
    "Der hier vorgestellte Code folgt im Kern dem Buch: Kochmar, Ekaterina (2022): Getting started with Natural Language Processing, Shelter Island: Manning. "
   ]
  },
  {
   "cell_type": "markdown",
   "id": "2a3a0134-ffc3-4005-8366-53b2cadba43b",
   "metadata": {},
   "source": [
    "Unabhngig von dem konkreten Projekt fallen beim maschinellen Lernen fünf Schritte an:\n",
    "1. Einlesen der Daten\n",
    "2. Vorbereiten (preprocessing) der Daten\n",
    "3. Modellieren der Daten\n",
    "4. Interpretation der Ergebnisse\n",
    "5. Evaluation der Modellqualität"
   ]
  },
  {
   "cell_type": "markdown",
   "id": "739be9e8-3d3e-49e2-9126-df18bcde337e",
   "metadata": {},
   "source": [
    "## 1. Einlesen der Daten"
   ]
  },
  {
   "cell_type": "code",
   "execution_count": 1,
   "id": "7caa4d67",
   "metadata": {},
   "outputs": [],
   "source": [
    "from sklearn.datasets import fetch_20newsgroups"
   ]
  },
  {
   "cell_type": "code",
   "execution_count": 2,
   "id": "90ae9429",
   "metadata": {},
   "outputs": [
    {
     "name": "stdout",
     "output_type": "stream",
     "text": [
      "9850\n"
     ]
    }
   ],
   "source": [
    "# laod 20 newsgroups data\n",
    "def load_dataset(sset, cats):\n",
    "    if cats==[]:\n",
    "        newsgroups_dset = fetch_20newsgroups(subset=sset,\n",
    "                                            remove=('headers', 'footers', 'quotes'),\n",
    "                                            shuffel=True)\n",
    "    else: \n",
    "        newsgroups_dset = fetch_20newsgroups(subset=sset,\n",
    "                                             categories=cats,\n",
    "                                             remove=('headers', 'footers', 'quotes'),\n",
    "                                             shuffle=True)\n",
    "    return newsgroups_dset\n",
    "\n",
    "categories = [\"comp.windows.x\", \"misc.forsale\", \"rec.autos\"]\n",
    "categories += [\"rec.motorcycles\", \"rec.sport.baseball\", \"rec.sport.hockey\"]\n",
    "categories += [\"sci.crypt\", \"sci.med\", \"sci.space\"]\n",
    "categories += [\"talk.politics.mideast\"]\n",
    "\n",
    "newsgroups_all = load_dataset('all', categories)\n",
    "\n",
    "print(len(newsgroups_all.data))"
   ]
  },
  {
   "cell_type": "markdown",
   "id": "541557c8-7d38-4794-af17-ebae81459922",
   "metadata": {},
   "source": [
    "## 2. Preprocessing"
   ]
  },
  {
   "cell_type": "code",
   "execution_count": 3,
   "id": "06fca20e",
   "metadata": {},
   "outputs": [],
   "source": [
    "# preprocess - import libraries\n",
    "import nltk\n",
    "import gensim\n",
    "from nltk.stem import SnowballStemmer\n",
    "from gensim.utils import simple_preprocess\n",
    "from gensim.parsing.preprocessing import STOPWORDS as stopwords"
   ]
  },
  {
   "cell_type": "code",
   "execution_count": 4,
   "id": "4a48192b",
   "metadata": {},
   "outputs": [],
   "source": [
    "# preprocess - define preprocessing function\n",
    "stemmer = SnowballStemmer('english')\n",
    "\n",
    "def stem(text):\n",
    "    return stemmer.stem(text)\n",
    "\n",
    "def preprocess(text):\n",
    "    result = []\n",
    "    for token in gensim.utils.simple_preprocess(text, min_len=4): # gensim.utils.simple_preprocess erstellt aus einem Dokument eine Liste von Token und reduziert alle Großbuchstaben klein. \n",
    "        if token not in stopwords:\n",
    "            result.append(stem(token))\n",
    "    return result"
   ]
  },
  {
   "cell_type": "code",
   "execution_count": 5,
   "id": "706b0ae6",
   "metadata": {},
   "outputs": [
    {
     "name": "stdout",
     "output_type": "stream",
     "text": [
      "Original document: \n",
      "Hi Xperts!\n",
      "\n",
      "How can I move the cursor with the keyboard (i.e. cursor keys), \n",
      "if no mouse is available?\n",
      "\n",
      "Any hints welcome.\n",
      "\n",
      "Thanks.\n",
      "\n",
      "\n",
      "Tokenized document: \n",
      "['Hi', 'Xperts', 'How', 'can', 'I', 'move', 'the', 'cursor', 'with', 'the', 'keyboard', 'i', 'e', 'cursor', 'keys', 'if', 'no', 'mouse', 'is', 'available', 'Any', 'hints', 'welcome', 'Thanks']\n",
      "\n",
      "\n",
      "Preprocessed document: \n",
      "['xpert', 'cursor', 'keyboard', 'cursor', 'key', 'mous', 'avail', 'hint', 'welcom', 'thank']\n"
     ]
    }
   ],
   "source": [
    "# preprocess - inspect results\n",
    "doc_sample = newsgroups_all.data[0]\n",
    "print('Original document: ')\n",
    "print(doc_sample)\n",
    "\n",
    "print('\\n\\nTokenized document: ')\n",
    "words = []\n",
    "for token in gensim.utils.tokenize(doc_sample):\n",
    "    words.append(token)\n",
    "print(words)\n",
    "\n",
    "print('\\n\\nPreprocessed document: ')\n",
    "print(preprocess(doc_sample))"
   ]
  },
  {
   "cell_type": "code",
   "execution_count": 6,
   "id": "d239f5f1",
   "metadata": {},
   "outputs": [
    {
     "name": "stdout",
     "output_type": "stream",
     "text": [
      "0\txpert, cursor, keyboard, cursor, key, mous, avail, hint, welcom, thank\n",
      "1\tobtain, copi, open, look, widget, obtain, need, order, copi, thank\n",
      "2\tright, signal, strong, live, west, philadelphia, perfect, sport, fan, dream\n",
      "3\tcanadian, thing, coach, boston, bruin, colorado, rocki, summari, post, gather\n",
      "4\theck, feel, like, time, includ, cafeteria, work, half, time, headach\n",
      "5\tdamn, right, late, climb, meet, morn, bother, right, foot, asleep\n",
      "6\tolympus, stylus, pocket, camera, smallest, class, includ, time, date, stamp\n",
      "7\tinclud, follow, chmos, clock, generat, driver, processor, chmos, eras, prom\n",
      "8\tchang, intel, discov, xclient, xload, longer, work, bomb, messag, error\n",
      "9\ttermin, like, power, server, run, window, manag, special, client, program\n"
     ]
    }
   ],
   "source": [
    "# preprocess - inspect output of group of documents\n",
    "for i in range(0, 10):\n",
    "    print(str(i) + '\\t' + \", \".join(preprocess(newsgroups_all.data[i])[:10])) "
   ]
  },
  {
   "cell_type": "code",
   "execution_count": 7,
   "id": "707b8e8d-7c0f-4046-8866-032894c75d6f",
   "metadata": {},
   "outputs": [],
   "source": [
    "from tqdm import tqdm # tqdm zeigt uns den Fortschritt eines loops an. "
   ]
  },
  {
   "cell_type": "code",
   "execution_count": 8,
   "id": "c3201161-638b-41d8-b332-554c26b1c431",
   "metadata": {},
   "outputs": [
    {
     "name": "stderr",
     "output_type": "stream",
     "text": [
      "100%|██████████| 9850/9850 [00:09<00:00, 1030.78it/s]"
     ]
    },
    {
     "name": "stdout",
     "output_type": "stream",
     "text": [
      "9850\n",
      "[['xpert', 'cursor', 'keyboard', 'cursor', 'key', 'mous', 'avail', 'hint', 'welcom', 'thank'], ['obtain', 'copi', 'open', 'look', 'widget', 'obtain', 'need', 'order', 'copi', 'thank', 'help', 'email']]\n"
     ]
    },
    {
     "name": "stderr",
     "output_type": "stream",
     "text": [
      "\n"
     ]
    }
   ],
   "source": [
    "# preprocess - process all documents\n",
    "processed_docs = []\n",
    "for i in tqdm(range(0, len(newsgroups_all.data))):\n",
    "    processed_docs.append(preprocess(newsgroups_all.data[i]))\n",
    "    \n",
    "print(len(processed_docs))\n",
    "\n",
    "print(processed_docs[0:2])\n"
   ]
  },
  {
   "cell_type": "code",
   "execution_count": 9,
   "id": "93a29fa5-9590-4945-85b8-fa71097be885",
   "metadata": {},
   "outputs": [
    {
     "name": "stdout",
     "output_type": "stream",
     "text": [
      "39350\n",
      "0 avail\n",
      "1 cursor\n",
      "2 hint\n",
      "3 key\n",
      "4 keyboard\n",
      "5 mous\n",
      "6 thank\n",
      "7 welcom\n",
      "8 xpert\n",
      "9 copi\n"
     ]
    }
   ],
   "source": [
    "# preprocess - convert word content into dictionary\n",
    "dictionary = gensim.corpora.Dictionary(processed_docs) # erstellt ein dictionary, das jedem singulären Wort eine id zuordnet. Das dictionary enthält das Vokabular V des Korpus.\n",
    "print(len(dictionary)) # Größe des Vokabulars\n",
    "\n",
    "index = 0\n",
    "for key, value in dictionary.iteritems():\n",
    "    print(key, value)\n",
    "    index +=1\n",
    "    if index > 9:\n",
    "        break\n"
   ]
  },
  {
   "cell_type": "code",
   "execution_count": 10,
   "id": "38375969-b9d0-4e7c-8072-afc2b47aef0e",
   "metadata": {},
   "outputs": [
    {
     "name": "stdout",
     "output_type": "stream",
     "text": [
      "5868\n"
     ]
    },
    {
     "name": "stderr",
     "output_type": "stream",
     "text": [
      "100%|██████████| 9850/9850 [00:00<00:00, 25532.21it/s]"
     ]
    },
    {
     "name": "stdout",
     "output_type": "stream",
     "text": [
      "[(0, 1), (1, 2), (2, 1), (3, 1), (4, 1), (5, 1), (6, 1), (7, 1), (8, 1)]\n"
     ]
    },
    {
     "name": "stderr",
     "output_type": "stream",
     "text": [
      "\n"
     ]
    }
   ],
   "source": [
    "# preprocess - further dimensionality reduction\n",
    "dictionary.filter_extremes(no_below=10, no_above=0.5, keep_n = 10000) # Funktion erlaubt es, sehr seltene und sehr häufige Wörter auszuschließen\n",
    "print(len(dictionary))\n",
    "\n",
    "bow_corpus = [dictionary.doc2bow(doc) for doc in tqdm(processed_docs)] # konvertiert ein Dokument (Liste von Wörtern) in das bag-of-words Format = 2er-Tupel (token_id, token_count). \n",
    "print(bow_corpus[0])"
   ]
  },
  {
   "cell_type": "code",
   "execution_count": 11,
   "id": "45eba197-3a87-4ce2-9603-0e08a028112e",
   "metadata": {},
   "outputs": [
    {
     "name": "stderr",
     "output_type": "stream",
     "text": [
      "100%|██████████| 9/9 [00:00<00:00, 7364.17it/s]"
     ]
    },
    {
     "name": "stdout",
     "output_type": "stream",
     "text": [
      "Key 0 = \"avail\": occurrences=1\n",
      "Key 1 = \"cursor\": occurrences=2\n",
      "Key 2 = \"hint\": occurrences=1\n",
      "Key 3 = \"key\": occurrences=1\n",
      "Key 4 = \"keyboard\": occurrences=1\n",
      "Key 5 = \"mous\": occurrences=1\n",
      "Key 6 = \"thank\": occurrences=1\n",
      "Key 7 = \"welcom\": occurrences=1\n",
      "Key 8 = \"xpert\": occurrences=1\n"
     ]
    },
    {
     "name": "stderr",
     "output_type": "stream",
     "text": [
      "\n"
     ]
    }
   ],
   "source": [
    "# preprocess - check word stems behind IDs from dictionary\n",
    "\n",
    "bow_doc = bow_corpus[0]\n",
    "\n",
    "for i in tqdm(range(len(bow_doc))):\n",
    "    print(f\"Key {bow_doc[i][0]} = \\\"{dictionary[bow_doc[i][0]]}\\\": occurrences={bow_doc[i][1]}\")"
   ]
  },
  {
   "cell_type": "markdown",
   "id": "ab31d869-7b55-4283-b4e1-5cdc3c9216fe",
   "metadata": {},
   "source": [
    "## 3. Modellieren der Daten"
   ]
  },
  {
   "cell_type": "code",
   "execution_count": 12,
   "id": "a9e448d7-e9fd-47c0-b7ac-cea72fc4e236",
   "metadata": {},
   "outputs": [],
   "source": [
    "# log lda algorithm\n",
    "import logging\n",
    "logging.basicConfig(filename = 'lda_model.log', filemode = 'w', force=True, format='%(asctime)s : %(levelname)s : %(message)s', level=logging.INFO)\n",
    "# das gensim LDA Modul berichtet nicht automatisch über den Fortschritt des Algorithmus. Mit der logging-Bibliothek können wir log-files anlegen, die uns Auskunft über\n",
    "# das Modell und den Fortschritt des Algorithmus geben."
   ]
  },
  {
   "cell_type": "code",
   "execution_count": 13,
   "id": "462be2e2-becd-42b0-a262-303480458536",
   "metadata": {},
   "outputs": [],
   "source": [
    "# run LDA\n",
    "id2word = dictionary\n",
    "corpus = bow_corpus\n",
    "\n",
    "lda_model = gensim.models.ldamodel.LdaModel(corpus=corpus,\n",
    "                                                id2word=id2word,\n",
    "                                                num_topics=10, # Anzahl der topics\n",
    "                                                random_state=100, # random state zum reproduzieren der Ergebnisse\n",
    "                                                chunksize=1000, # Anzahl Dokumente, die auf ein Mal in den Arbeitsspeicher geladen werden  \n",
    "                                                update_every=1, # Anzahl von chunks, die auf ein Mal bearbeitet werden. \n",
    "                                                eval_every=10, # Schätzung der log-perplexity (Maß für Modellgüte)\n",
    "                                                passes=10, # Anzahl wie häufig der Alg. durch den gesamten Datensatz geht\n",
    "                                                alpha='symmetric', # prior für die Dokumenten-Topic Verteilung\n",
    "                                                eta ='symmetric',  #  prior für die Topic-Wort Verteilung \n",
    "                                                iterations=100, # Anzahl der Iterationen\n",
    "                                                per_word_topics=True) #  Wenn auf True gesetzt berechnet das Modell auch eine Liste mit wahrscheinlichsten Topics für jedes Wort\n",
    "\n",
    "# Um zu sehen, was gensim tut müssen wir in den log file schauen!"
   ]
  },
  {
   "cell_type": "markdown",
   "id": "8aa70fcb-b1de-4d42-9696-cf102d5b7db5",
   "metadata": {},
   "source": [
    "## 4. Interpretation des Models"
   ]
  },
  {
   "cell_type": "code",
   "execution_count": 14,
   "id": "412483b8-23b0-4b7d-9c99-83d9ca2c50a6",
   "metadata": {},
   "outputs": [
    {
     "name": "stdout",
     "output_type": "stream",
     "text": [
      "Topic: 0 \n",
      "Words: 0.021*\"encrypt\" + 0.018*\"secur\" + 0.018*\"chip\" + 0.016*\"govern\" + 0.013*\"clipper\" + 0.012*\"public\" + 0.010*\"privaci\" + 0.010*\"key\" + 0.010*\"phone\" + 0.009*\"algorithm\"\n",
      "Topic: 1 \n",
      "Words: 0.017*\"appear\" + 0.014*\"copi\" + 0.013*\"cover\" + 0.013*\"star\" + 0.013*\"book\" + 0.011*\"penalti\" + 0.010*\"black\" + 0.009*\"comic\" + 0.008*\"blue\" + 0.008*\"green\"\n",
      "Topic: 2 \n",
      "Words: 0.031*\"window\" + 0.015*\"server\" + 0.012*\"program\" + 0.012*\"file\" + 0.012*\"applic\" + 0.012*\"display\" + 0.011*\"widget\" + 0.010*\"version\" + 0.010*\"motif\" + 0.010*\"support\"\n",
      "Topic: 3 \n",
      "Words: 0.015*\"space\" + 0.007*\"launch\" + 0.007*\"year\" + 0.007*\"medic\" + 0.006*\"patient\" + 0.006*\"orbit\" + 0.006*\"research\" + 0.006*\"diseas\" + 0.005*\"develop\" + 0.005*\"nasa\"\n",
      "Topic: 4 \n",
      "Words: 0.018*\"armenian\" + 0.011*\"peopl\" + 0.008*\"kill\" + 0.008*\"said\" + 0.007*\"turkish\" + 0.006*\"muslim\" + 0.006*\"jew\" + 0.006*\"govern\" + 0.005*\"state\" + 0.005*\"greek\"\n",
      "Topic: 5 \n",
      "Words: 0.024*\"price\" + 0.021*\"sale\" + 0.020*\"offer\" + 0.017*\"drive\" + 0.017*\"sell\" + 0.016*\"includ\" + 0.013*\"ship\" + 0.013*\"interest\" + 0.011*\"ask\" + 0.010*\"condit\"\n",
      "Topic: 6 \n",
      "Words: 0.018*\"mail\" + 0.016*\"list\" + 0.015*\"file\" + 0.015*\"inform\" + 0.013*\"send\" + 0.012*\"post\" + 0.012*\"avail\" + 0.010*\"request\" + 0.010*\"program\" + 0.009*\"includ\"\n",
      "Topic: 7 \n",
      "Words: 0.019*\"like\" + 0.016*\"know\" + 0.011*\"time\" + 0.011*\"look\" + 0.010*\"think\" + 0.008*\"want\" + 0.008*\"thing\" + 0.008*\"good\" + 0.007*\"go\" + 0.007*\"bike\"\n",
      "Topic: 8 \n",
      "Words: 0.033*\"game\" + 0.022*\"team\" + 0.017*\"play\" + 0.015*\"year\" + 0.013*\"player\" + 0.011*\"season\" + 0.008*\"hockey\" + 0.008*\"score\" + 0.007*\"leagu\" + 0.007*\"goal\"\n",
      "Topic: 9 \n",
      "Words: 0.013*\"peopl\" + 0.012*\"think\" + 0.011*\"like\" + 0.009*\"time\" + 0.009*\"right\" + 0.009*\"israel\" + 0.009*\"know\" + 0.006*\"reason\" + 0.006*\"point\" + 0.006*\"thing\"\n"
     ]
    }
   ],
   "source": [
    "for index, topic in lda_model.print_topics(-1): # zeige Wortzusammensetzung der Topics, inkl. Gewichte (d.h. Bedeutung) einzelner Wörter\n",
    "    print(f\"Topic: {index} \\nWords: {topic}\")"
   ]
  },
  {
   "cell_type": "code",
   "execution_count": 15,
   "id": "ca1c9593-39f4-41dd-9653-ea4a49627298",
   "metadata": {},
   "outputs": [],
   "source": [
    "# analyze topics - main topics for each document in the collection\n",
    "def analyse_topics(ldamodel, corpus, text):\n",
    "    main_topic = {}\n",
    "    percentage = {}\n",
    "    keywords = {}\n",
    "    text_snippets = {}\n",
    "    \n",
    "    for i, topic_list in enumerate(ldamodel [corpus]):\n",
    "        topic = topic_list[0]\n",
    "        topic = sorted(topic, key = lambda x: (x[1]), reverse = True) # extrahiert den wahrscheinlichsten Topicmix für jedes Dokument und sortiert die Topics. Ergebnis ist eine Liste\n",
    "        # mit Topic Id (topic_num) und Anteil des Topics am Dokument (prob_topic)\n",
    "       \n",
    "        for j, (topic_num, prop_topic) in enumerate(topic):\n",
    "            if j == 0: # extrahiere das wahrscheinlichste Topic, d.h. das mit dem größten Anteil\n",
    "                wp = ldamodel.show_topic(topic_num) # extrahiere topic keywords für das Topic mit dem größten Anteil\n",
    "                topic_keywords = \", \".join([word for word, prop in wp[:5]])\n",
    "                main_topic[i] = int(topic_num)\n",
    "                percentage[i] = round(prop_topic, 4)\n",
    "                keywords[i] = topic_keywords\n",
    "                text_snippets[i] = text[i][:8]\n",
    "            else:\n",
    "                break\n",
    "    return main_topic, percentage, keywords, text_snippets\n",
    "            "
   ]
  },
  {
   "cell_type": "code",
   "execution_count": 16,
   "id": "13007ddd-0650-453b-9f6c-7aec8ac28181",
   "metadata": {},
   "outputs": [],
   "source": [
    "main_topic, percentage, keywords, text_snippets = analyse_topics(lda_model, bow_corpus, processed_docs)"
   ]
  },
  {
   "cell_type": "code",
   "execution_count": 17,
   "id": "f6f721c0-fbac-4aa3-ac89-6a31eac53bb5",
   "metadata": {},
   "outputs": [
    {
     "name": "stdout",
     "output_type": "stream",
     "text": [
      " ID Main Topic Contribution (%) Keywords                               Snippet                                                                          \n",
      " 0  2          0.8268           window, server, program, file, applic\n",
      " ['xpert', 'cursor', 'keyboard', 'cursor', 'key', 'mous', 'avail', 'hint']        \n",
      " 1  6          0.4741           mail, list, file, inform, send\n",
      "        ['obtain', 'copi', 'open', 'look', 'widget', 'obtain', 'need', 'order']          \n",
      " 2  7          0.4230           like, know, time, look, think\n",
      "         ['right', 'signal', 'strong', 'live', 'west', 'philadelphia', 'perfect', 'sport']\n",
      " 3  8          0.4159           game, team, play, year, player\n",
      "        ['canadian', 'thing', 'coach', 'boston', 'bruin', 'colorado', 'rocki', 'summari']\n",
      " 4  9          0.9039           peopl, think, like, time, right\n",
      "       ['heck', 'feel', 'like', 'time', 'includ', 'cafeteria', 'work', 'half']          \n",
      " 5  7          0.6291           like, know, time, look, think\n",
      "         ['damn', 'right', 'late', 'climb', 'meet', 'morn', 'bother', 'right']            \n",
      " 6  3          0.3485           space, launch, year, medic, patient\n",
      "   ['olympus', 'stylus', 'pocket', 'camera', 'smallest', 'class', 'includ', 'time'] \n",
      " 7  5          0.3799           price, sale, offer, drive, sell\n",
      "       ['includ', 'follow', 'chmos', 'clock', 'generat', 'driver', 'processor', 'chmos']\n",
      " 8  2          0.7943           window, server, program, file, applic\n",
      " ['chang', 'intel', 'discov', 'xclient', 'xload', 'longer', 'work', 'bomb']       \n",
      " 9  2          0.6383           window, server, program, file, applic\n",
      " ['termin', 'like', 'power', 'server', 'run', 'window', 'manag', 'special']       \n"
     ]
    }
   ],
   "source": [
    "# analyze topics - print out main topic for each document in the collection\n",
    "\n",
    "indexes = []\n",
    "rows = []\n",
    "for i in range(0, 10):\n",
    "    indexes.append(i)\n",
    "rows.append(['ID', 'Main Topic', 'Contribution (%)', 'Keywords', 'Snippet' ])\n",
    "\n",
    "for idx in indexes:\n",
    "    rows.append([str(idx), f\"{main_topic.get(idx)}\",\n",
    "                f\"{percentage.get(idx):.4f}\",\n",
    "                f\"{keywords.get(idx)}\\n\",\n",
    "                f\"{text_snippets.get(idx)}\"])\n",
    "columns = zip(*rows)\n",
    "column_width = [max(len(item) for item in col) for col in columns]\n",
    "for row in rows:\n",
    "    print(''.join(' {:{width}}'.format(row[i], width=column_width[i]) for i in range(0, len(row))))"
   ]
  },
  {
   "cell_type": "code",
   "execution_count": 18,
   "id": "08716335-d91d-40cc-87f5-c032806f3bfc",
   "metadata": {},
   "outputs": [
    {
     "name": "stdout",
     "output_type": "stream",
     "text": [
      "[1, 2, 3, 4, 5, 6, 7, 8, 9, 10]\n"
     ]
    }
   ],
   "source": [
    "# analyze topics - visualize with pyLDAvis\n",
    "\n",
    "import pyLDAvis.gensim_models\n",
    "#pyLDAvis.enable_notebook()\n",
    "vis = pyLDAvis.gensim_models.prepare(lda_model, corpus, dictionary=lda_model.id2word, sort_topics=False)\n",
    "#vis\n",
    "pyLDAvis.save_html(vis, 'lda.html')\n",
    "print(vis.topic_order)\n",
    "# Achtung pyLDAvis ordnet die per default Topics nach Anteil der token im Korpus. Die Nummerierung der Topics aus den vorherhigen Schritten stimmt daher nicht mir der Nummerierung der Topics\n",
    "# in der pyLDAvis Visualisierung überein! Indem wir sort_topics auf False setzen übernehmen wir die Sortierung des gensim LDA Models, allerdings beginnt gensim die Zählung bei 0\n",
    "# und pyLDAvis bei 1. \n",
    "# https://github.com/bmabey/pyLDAvis/issues/127"
   ]
  },
  {
   "cell_type": "markdown",
   "id": "388afd8c-ea55-434f-b66d-8507c352f7ba",
   "metadata": {},
   "source": [
    "## 5. Modellqualität"
   ]
  },
  {
   "cell_type": "markdown",
   "id": "f950ff6a-5018-482f-b1b4-71592efdfb85",
   "metadata": {},
   "source": [
    "### a) Konvergenz und Perplexity"
   ]
  },
  {
   "cell_type": "code",
   "execution_count": 19,
   "id": "6441039a-913b-42e6-8fd8-e8585cdf38e3",
   "metadata": {},
   "outputs": [
    {
     "name": "stdout",
     "output_type": "stream",
     "text": [
      "[[('-7.831', '227.7')], [('-7.724', '211.4')], [('-7.697', '207.5')], [('-7.684', '205.6')], [('-7.677', '204.7')], [('-7.673', '204.1')], [('-7.670', '203.6')], [('-7.667', '203.3')], [('-7.665', '203.0')], [('-7.664', '202.8')]]\n",
      "[('-7.831', '227.7'), ('-7.724', '211.4'), ('-7.697', '207.5'), ('-7.684', '205.6'), ('-7.677', '204.7'), ('-7.673', '204.1'), ('-7.670', '203.6'), ('-7.667', '203.3'), ('-7.665', '203.0'), ('-7.664', '202.8')]\n",
      "[0, 10, 20, 30, 40, 50, 60, 70, 80, 90]\n"
     ]
    },
    {
     "name": "stderr",
     "output_type": "stream",
     "text": [
      "<>:3: DeprecationWarning: invalid escape sequence \\d\n",
      "<>:3: DeprecationWarning: invalid escape sequence \\d\n",
      "/tmp/ipykernel_97/2674728146.py:3: DeprecationWarning: invalid escape sequence \\d\n",
      "  p = re.compile(\"(-*\\d+\\.\\d+) per-word .* (\\d+\\.\\d+) perplexity\")\n"
     ]
    }
   ],
   "source": [
    "# compute topic model convergences & perplexity\n",
    "import re\n",
    "p = re.compile(\"(-*\\d+\\.\\d+) per-word .* (\\d+\\.\\d+) perplexity\")\n",
    "matches = [p.findall(l) for l in open('lda_model.log')]\n",
    "#print(matches)\n",
    "matches = [m for m in matches if len(m) > 0]\n",
    "print(matches)\n",
    "tuples = [t[0] for t in matches]\n",
    "print(tuples)\n",
    "perplexity = [float(t[1]) for t in tuples]\n",
    "liklihood = [float(t[0]) for t in tuples]\n",
    "iterations = list(range(0,len(tuples)*10,10))\n",
    "print(iterations)\n",
    "\n",
    "# Perplexity is the measure of how well a model predicts a sample. A lower perplexity score indicates better generalization performance.\n",
    "# increasing word bound means that model quality is increasing\n",
    "# from: https://stackoverflow.com/questions/37570696/how-to-monitor-convergence-of-gensim-lda-model"
   ]
  },
  {
   "cell_type": "code",
   "execution_count": 20,
   "id": "f5fd7e06-138c-4a12-95c9-889271d849d2",
   "metadata": {},
   "outputs": [
    {
     "data": {
      "image/png": "[encoded data removed]",
      "text/plain": [
       "<Figure size 1200x500 with 2 Axes>"
      ]
     },
     "metadata": {},
     "output_type": "display_data"
    }
   ],
   "source": [
    "import matplotlib.pyplot as plt\n",
    "fig, axs = plt.subplots(1,2, figsize=(12,5))\n",
    "axs[0].plot(iterations,liklihood,c='black')\n",
    "axs[1].plot(iterations,perplexity,c='black')\n",
    "\n",
    "fig.suptitle('Topic Model Convergences and Perplexity')\n",
    "axs[0].set_title(label='Convergences')\n",
    "axs[1].set_title(label='Perplexity')\n",
    "\n",
    "axs[0].set_xlabel('iteration')\n",
    "axs[1].set_xlabel('iteration')\n",
    "\n",
    "axs[0].set_ylabel('per word bound')\n",
    "axs[1].set_ylabel('perplexity')\n",
    "\n",
    "plt.show()"
   ]
  },
  {
   "cell_type": "markdown",
   "id": "f4b772e2-e659-40c6-809f-a4ba0138ae50",
   "metadata": {},
   "source": [
    "### b) Topic Kohärenz"
   ]
  },
  {
   "cell_type": "markdown",
   "id": "b30cf693-1d5f-4879-aa6b-8f961b992d97",
   "metadata": {},
   "source": [
    "Mit Koährenzmaßen messen wir die Interpretierbarkeit eines Topics durch Menschen. Koährenzmaße berechnen, wie ähnlich sich die Worte innerhalb eines Topics sind. Dazu werden Wortpaare miteinander verglichen und gefragt, ob die Topwörter eines Topics über den gesamten Korpus hinweg häufig miteinander auftretetn. \n",
    "* https://towardsdatascience.com/understanding-topic-coherence-measures-4aa41339634c\n",
    "* https://www.baeldung.com/cs/topic-modeling-coherence-score\n",
    "* https://dl.acm.org/doi/pdf/10.1145/2684822.2685324"
   ]
  },
  {
   "cell_type": "markdown",
   "id": "b5c97369-d62d-4e25-848f-dbff005b246b",
   "metadata": {},
   "source": [
    "Es existieren direkte und indirekte Kohärenzmaße. Ein Beispiel für ein direktes Kohärenzmaß ist die u-mass:\n",
    "$$C_{UMASS}(w_{i},w_{j})=log\\frac{P(w_{i}, w_{j})+\\epsilon}{P(w_{i})}$$\n",
    "\n",
    "Ein höherer U Mass Wert weißt dabei auf eine höhere Kohärenz hin. Die UMass Werte können zwischen ca. -14 und +14 liegen. Dies spiegelt aber Extremfälle wieder. In der Regel sollten die Werte der UMass zwischen -4.6 und + 4.6 liegen. \n",
    "\n",
    "Ein Beispiel für ein indirektes Kohärenzmaß ist der CV Score, der die Kosinusähnlichkeit zwischen Wortvektoren berechnet. \n",
    "$$\\vec{v_m}(W')=\\Biggl\\{\\sum_{w_i \\in W'}m(w_i,w_j)\\Biggr\\}_{j=1,2,...,|W|}$$\n",
    "\n",
    "$$\\tilde{m}_{cos}(W',W^\\ast) = s_{cos}(\\vec{v_m}(W'),\\vec{v_m}(W^\\ast))$$\n",
    "\n",
    "Die Kosinusähnlichkeit liegt zwischen -1 und 1, wobei 1 vollständige Gleichartigkeit und -1 vollständige Gegensätzlichkeit bedeutet. Bei Werten von 0 liegt überhaupt keine Ähnlichkeit vor. "
   ]
  },
  {
   "cell_type": "code",
   "execution_count": 21,
   "id": "21723519-1098-4b35-8d77-c6c02c24d1b3",
   "metadata": {},
   "outputs": [
    {
     "name": "stdout",
     "output_type": "stream",
     "text": [
      "U Mass:\n",
      "[-1.5140784869316815, -4.305268005744034, -1.8582755899910361, -2.559243112920476, -1.667401728474058, -1.8415437392938399, -1.8284884499304548, -1.8278644822675956, -1.9864733066470002, -1.7720263482934764]\n",
      "CV Score:\n",
      "[0.8276464551972671, 0.5049718292236648, 0.7561515990280402, 0.477484673757372, 0.6594483667646287, 0.5528271660277136, 0.7270885077268083, 0.5547998333570938, 0.757557781078168, 0.4910489791220787]\n"
     ]
    }
   ],
   "source": [
    "from gensim.models import CoherenceModel\n",
    "u_mass = CoherenceModel(model=lda_model, corpus=corpus, dictionary=dictionary, coherence='u_mass')\n",
    "c_v = CoherenceModel(model=lda_model, texts=processed_docs, dictionary=dictionary, coherence='c_v')\n",
    "\n",
    "coherence_per_topic = c_v.get_coherence_per_topic()\n",
    "\n",
    "print(\"U Mass:\")\n",
    "print(u_mass.get_coherence_per_topic())\n",
    "\n",
    "print(\"CV Score:\")\n",
    "print(c_v.get_coherence_per_topic())"
   ]
  },
  {
   "cell_type": "code",
   "execution_count": 22,
   "id": "5cd0392a-3b84-4964-8be3-9e09dd32e197",
   "metadata": {},
   "outputs": [],
   "source": [
    "topic_words = []\n",
    "for i in range(0,10): # erstelle eine Liste mit den Top 3 Wörtern für jedes Topic\n",
    "    topic_terms = lda_model.get_topic_terms(i,3)\n",
    "    topic_words.append([dictionary[pair[0]] for pair in topic_terms])"
   ]
  },
  {
   "cell_type": "code",
   "execution_count": 33,
   "id": "ae5679ac-a9fd-4611-b005-9ab839c00c64",
   "metadata": {},
   "outputs": [
    {
     "data": {
      "image/png": "[encoded data removed]",
      "text/plain": [
       "<Figure size 200x600 with 2 Axes>"
      ]
     },
     "metadata": {},
     "output_type": "display_data"
    }
   ],
   "source": [
    "import seaborn as sns\n",
    "import pandas as pd\n",
    "#topics_str = lda_model.show_topics(num_words=3, formatted=True)\n",
    "topics_str = [ '\\n '.join(t) for t in topic_words ]\n",
    "data_topic_score = pd.DataFrame( data=zip(topics_str, coherence_per_topic), columns=['Topic', 'Coherence'] )\n",
    "data_topic_score = data_topic_score.set_index('Topic')\n",
    "\n",
    "fig, ax = plt.subplots( figsize=(2,6) )\n",
    "ax.set_title(\"Topics coherence\\n $C_v$\")\n",
    "sns.heatmap(data=data_topic_score, annot=True, square=True,\n",
    "            cmap='Reds', fmt='.2f',\n",
    "            linecolor='black', ax=ax)\n",
    "plt.yticks( rotation=0 )\n",
    "ax.set(xlabel='', ylabel='')\n",
    "fig.show()"
   ]
  },
  {
   "cell_type": "markdown",
   "id": "b9ed7e78-902c-41da-a967-6dadebd6e745",
   "metadata": {},
   "source": [
    "changes to $\\alpha$ and $\\beta$\n",
    "\n",
    "http://ethen8181.github.io/machine-learning/clustering/topic_model/LDA.html"
   ]
  },
  {
   "cell_type": "markdown",
   "id": "2516f70c-0353-4eea-b80e-928f1af1575a",
   "metadata": {},
   "source": [
    "Old Code"
   ]
  },
  {
   "cell_type": "code",
   "execution_count": 24,
   "id": "678719b9-6fdf-4d8f-9cb7-5475928da432",
   "metadata": {},
   "outputs": [
    {
     "name": "stderr",
     "output_type": "stream",
     "text": [
      " 25%|██▌       | 1/4 [00:35<01:45, 35.20s/it]"
     ]
    },
    {
     "name": "stdout",
     "output_type": "stream",
     "text": [
      "-1.9872220135095524\n"
     ]
    },
    {
     "name": "stderr",
     "output_type": "stream",
     "text": [
      " 50%|█████     | 2/4 [01:08<01:08, 34.22s/it]"
     ]
    },
    {
     "name": "stdout",
     "output_type": "stream",
     "text": [
      "-2.116066325049365\n"
     ]
    },
    {
     "name": "stderr",
     "output_type": "stream",
     "text": [
      " 75%|███████▌  | 3/4 [01:43<00:34, 34.70s/it]"
     ]
    },
    {
     "name": "stdout",
     "output_type": "stream",
     "text": [
      "-2.4870672483583807\n"
     ]
    },
    {
     "name": "stderr",
     "output_type": "stream",
     "text": [
      "100%|██████████| 4/4 [02:40<00:00, 40.20s/it]"
     ]
    },
    {
     "name": "stdout",
     "output_type": "stream",
     "text": [
      "-2.9346177059722134\n"
     ]
    },
    {
     "name": "stderr",
     "output_type": "stream",
     "text": [
      "\n"
     ]
    }
   ],
   "source": [
    "from gensim.models import CoherenceModel\n",
    "\n",
    "id2word = dictionary\n",
    "corpus = bow_corpus\n",
    "\n",
    "topics = [5, 10, 20, 40]\n",
    "\n",
    "for i in tqdm(topics): \n",
    "\n",
    "    lda_model_i = gensim.models.ldamodel.LdaModel(corpus=corpus,\n",
    "                                                    id2word=id2word,\n",
    "                                                    num_topics=i,\n",
    "                                                    random_state=100,\n",
    "                                                    update_every=1,\n",
    "                                                    chunksize=1000,\n",
    "                                                    passes=10,\n",
    "                                                    alpha='symmetric',\n",
    "                                                    iterations=100,\n",
    "                                                    per_word_topics=True)\n",
    "    u_mass_i = CoherenceModel(model=lda_model_i, corpus=corpus, dictionary=dictionary, coherence='u_mass')\n",
    "    \n",
    "    print(u_mass_i.get_coherence())"
   ]
  }
 ],
 "metadata": {
  "kernelspec": {
   "display_name": "Python 3 (ipykernel)",
   "language": "python",
   "name": "python3"
  },
  "language_info": {
   "codemirror_mode": {
    "name": "ipython",
    "version": 3
   },
   "file_extension": ".py",
   "mimetype": "text/x-python",
   "name": "python",
   "nbconvert_exporter": "python",
   "pygments_lexer": "ipython3",
   "version": "3.9.13"
  }
 },
 "nbformat": 4,
 "nbformat_minor": 5
}
