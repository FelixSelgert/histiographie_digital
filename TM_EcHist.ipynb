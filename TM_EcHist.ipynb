{
 "cells": [
  {
   "cell_type": "code",
   "execution_count": 1,
   "id": "421b6fa9-c72d-4a81-894e-1d448c9124e2",
   "metadata": {},
   "outputs": [],
   "source": [
    "import pandas as pd"
   ]
  },
  {
   "cell_type": "code",
   "execution_count": 2,
   "id": "26ef8e56-89e2-4795-8496-1d366a9d2fbe",
   "metadata": {},
   "outputs": [
    {
     "data": {
      "text/html": [
       "<div>\n",
       "<style scoped>\n",
       "    .dataframe tbody tr th:only-of-type {\n",
       "        vertical-align: middle;\n",
       "    }\n",
       "\n",
       "    .dataframe tbody tr th {\n",
       "        vertical-align: top;\n",
       "    }\n",
       "\n",
       "    .dataframe thead th {\n",
       "        text-align: right;\n",
       "    }\n",
       "</style>\n",
       "<table border=\"1\" class=\"dataframe\">\n",
       "  <thead>\n",
       "    <tr style=\"text-align: right;\">\n",
       "      <th></th>\n",
       "      <th>Autor, Herausgeber oder Institution</th>\n",
       "      <th>Abstract</th>\n",
       "      <th>Jahr ermittelt</th>\n",
       "      <th>Titel</th>\n",
       "      <th>Zeitschrift/Zeitung</th>\n",
       "      <th>Dokumententyp</th>\n",
       "    </tr>\n",
       "  </thead>\n",
       "  <tbody>\n",
       "    <tr>\n",
       "      <th>0</th>\n",
       "      <td>Barsky, Robert B.; Long, J. Bradford de</td>\n",
       "      <td>The bull and bear markets of this century have...</td>\n",
       "      <td>1990</td>\n",
       "      <td>Bull and Bear Markets in the Twentieth Century</td>\n",
       "      <td>The Journal of Economic History</td>\n",
       "      <td>Zeitschriftenaufsatz</td>\n",
       "    </tr>\n",
       "    <tr>\n",
       "      <th>1</th>\n",
       "      <td>Bessler, David A.</td>\n",
       "      <td>NaN</td>\n",
       "      <td>1990</td>\n",
       "      <td>A note on Chinese rice prices: Interior market...</td>\n",
       "      <td>Explorations in Economic History</td>\n",
       "      <td>Zeitschriftenaufsatz</td>\n",
       "    </tr>\n",
       "    <tr>\n",
       "      <th>2</th>\n",
       "      <td>Crafts, Nicolas F. R.; Leybourne, S.J; Mills, ...</td>\n",
       "      <td>The paper uses a structural time series model ...</td>\n",
       "      <td>1990</td>\n",
       "      <td>Measurement of trend growth in European indust...</td>\n",
       "      <td>Explorations in Economic History</td>\n",
       "      <td>Zeitschriftenaufsatz</td>\n",
       "    </tr>\n",
       "    <tr>\n",
       "      <th>3</th>\n",
       "      <td>Dudley, Leonard</td>\n",
       "      <td>Previous explanations of Rome's decline fail t...</td>\n",
       "      <td>1990</td>\n",
       "      <td>Structural change in interdependent bureaucrac...</td>\n",
       "      <td>Explorations in Economic History</td>\n",
       "      <td>Zeitschriftenaufsatz</td>\n",
       "    </tr>\n",
       "    <tr>\n",
       "      <th>4</th>\n",
       "      <td>Economopoulos, Andrew J.</td>\n",
       "      <td>Rolnick and Weber found that a sharp decline i...</td>\n",
       "      <td>1990</td>\n",
       "      <td>Free bank failures in New York and Wisconsin: ...</td>\n",
       "      <td>Explorations in Economic History</td>\n",
       "      <td>Zeitschriftenaufsatz</td>\n",
       "    </tr>\n",
       "  </tbody>\n",
       "</table>\n",
       "</div>"
      ],
      "text/plain": [
       "                 Autor, Herausgeber oder Institution  \\\n",
       "0            Barsky, Robert B.; Long, J. Bradford de   \n",
       "1                                  Bessler, David A.   \n",
       "2  Crafts, Nicolas F. R.; Leybourne, S.J; Mills, ...   \n",
       "3                                    Dudley, Leonard   \n",
       "4                           Economopoulos, Andrew J.   \n",
       "\n",
       "                                            Abstract  Jahr ermittelt  \\\n",
       "0  The bull and bear markets of this century have...            1990   \n",
       "1                                                NaN            1990   \n",
       "2  The paper uses a structural time series model ...            1990   \n",
       "3  Previous explanations of Rome's decline fail t...            1990   \n",
       "4  Rolnick and Weber found that a sharp decline i...            1990   \n",
       "\n",
       "                                               Titel  \\\n",
       "0     Bull and Bear Markets in the Twentieth Century   \n",
       "1  A note on Chinese rice prices: Interior market...   \n",
       "2  Measurement of trend growth in European indust...   \n",
       "3  Structural change in interdependent bureaucrac...   \n",
       "4  Free bank failures in New York and Wisconsin: ...   \n",
       "\n",
       "                Zeitschrift/Zeitung         Dokumententyp  \n",
       "0   The Journal of Economic History  Zeitschriftenaufsatz  \n",
       "1  Explorations in Economic History  Zeitschriftenaufsatz  \n",
       "2  Explorations in Economic History  Zeitschriftenaufsatz  \n",
       "3  Explorations in Economic History  Zeitschriftenaufsatz  \n",
       "4  Explorations in Economic History  Zeitschriftenaufsatz  "
      ]
     },
     "execution_count": 2,
     "metadata": {},
     "output_type": "execute_result"
    }
   ],
   "source": [
    "abstracts = pd.read_csv('abstracts_EcHist.csv', sep=';')\n",
    "abstracts.head()"
   ]
  },
  {
   "cell_type": "code",
   "execution_count": 3,
   "id": "d9105b80-cd58-4a71-a316-34ef89573e9a",
   "metadata": {},
   "outputs": [
    {
     "name": "stdout",
     "output_type": "stream",
     "text": [
      "<class 'pandas.core.frame.DataFrame'>\n",
      "RangeIndex: 3032 entries, 0 to 3031\n",
      "Data columns (total 6 columns):\n",
      " #   Column                               Non-Null Count  Dtype \n",
      "---  ------                               --------------  ----- \n",
      " 0   Autor, Herausgeber oder Institution  3032 non-null   object\n",
      " 1   Abstract                             2998 non-null   object\n",
      " 2   Jahr ermittelt                       3032 non-null   int64 \n",
      " 3   Titel                                3032 non-null   object\n",
      " 4   Zeitschrift/Zeitung                  3032 non-null   object\n",
      " 5   Dokumententyp                        3032 non-null   object\n",
      "dtypes: int64(1), object(5)\n",
      "memory usage: 142.2+ KB\n"
     ]
    }
   ],
   "source": [
    "abstracts.info()"
   ]
  },
  {
   "cell_type": "code",
   "execution_count": null,
   "id": "af586f90-2926-456d-9669-d0cb37862add",
   "metadata": {},
   "outputs": [],
   "source": []
  }
 ],
 "metadata": {
  "kernelspec": {
   "display_name": "Python 3 (ipykernel)",
   "language": "python",
   "name": "python3"
  },
  "language_info": {
   "codemirror_mode": {
    "name": "ipython",
    "version": 3
   },
   "file_extension": ".py",
   "mimetype": "text/x-python",
   "name": "python",
   "nbconvert_exporter": "python",
   "pygments_lexer": "ipython3",
   "version": "3.9.13"
  }
 },
 "nbformat": 4,
 "nbformat_minor": 5
}
